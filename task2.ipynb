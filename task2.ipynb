{
 "metadata": {
  "language_info": {
   "codemirror_mode": {
    "name": "ipython",
    "version": 3
   },
   "file_extension": ".py",
   "mimetype": "text/x-python",
   "name": "python",
   "nbconvert_exporter": "python",
   "pygments_lexer": "ipython3",
   "version": "3.6.9"
  },
  "orig_nbformat": 2,
  "kernelspec": {
   "name": "python36964bitbasecondac64d282fa60a498fa283947468542966",
   "display_name": "Python 3.6.9 64-bit ('base': conda)"
  },
  "metadata": {
   "interpreter": {
    "hash": "2cc0a28750a97f3af66d5f5dbea248319d1ba299a184f0311f0cc2afdf3bf264"
   }
  }
 },
 "nbformat": 4,
 "nbformat_minor": 2,
 "cells": [
  {
   "source": [
    "The Pacman environment\n",
    "----------------------\n",
    "The Pacman is an agent that moves around the grid. When it encounters a cell with a breadcrumb, it \"eats\" it and gets a\n",
    "positive reward. When all of the breadcrumbs are consumed, he wins.\n",
    "\n",
    "The Pacman moves 1 cell for each timestep in one of 4 directions; up, down, left, right. All 4 sides of the \n",
    "environment grid contain obstacles so that the agent cannot move out of the grid. In addition there are more obstacles\n",
    "inside the grid as well. If the Pacman tries to move into an obstacle, he gets a negative reward and returns back to the \n",
    "cell he moved from. If the Pacman moves into an empty cell, he gets a small negative reward. This is an incentive to get \n",
    "game completed as quickly as possible.\n",
    "\n",
    "The whole algorithm is run from the cell below.\n",
    "\n",
    "Before running this code, check in the config.py file for the configurable parameters used in this algorithm.\n",
    "This includes the number of breadcrumbs, the location of the breadcrumbs and the location of the obstacles.\n",
    "The Pacman is more likely to win if there are fewer breadcrumbs in the grid.\n",
    "\n",
    "The Pacman learns from completing a large number of episodes. If you intend to run lots of episodes, it is a \n",
    "good idea to set the flag show_step = False as step by step changes will output too many lines.\n",
    "\n",
    "The ghost provides stochasticity in the environment. \n",
    "\n",
    "If the Pacman moves onto the ghost, he loses. There is a flag \"Hyper.is_ghost\" which when set to True ensures\n",
    "there is a ghost in the environment."
   ],
   "cell_type": "markdown",
   "metadata": {}
  },
  {
   "cell_type": "code",
   "execution_count": 1,
   "metadata": {
    "tags": []
   },
   "outputs": [
    {
     "output_type": "stream",
     "name": "stdout",
     "text": [
      "\n\n\n\n\n\n\n\n\n\n\n----------------------------------------------------------------------------------------------------\nStart of environment design for Pacman\nThe Hyperparameters\n-------------------\nThreshold for exploitation (epsilon) = 0.95\nepsilon decay = 0.995\nminimum value of epsilon = 0.001\nlearning rate (alpha) = 0.8\ndiscount factor (gamma) = 0.51\ntotal number of breadcrumbs 10\n----------------------------------------------------------------------------------------------------\nThe grid is updated and printed for each step. In each cell you see the following symbols:\nX - obstacle\n. - empty\nb - breadcrumb\nA - Agent (Pacman)\nG - Ghost\nCompleted environment after 1 episodes and 99 timesteps, total reward: -4543 with epsilon: 0.5783737835841118\nYou lost to the ghost!\nCompleted environment after 2 episodes and 43 timesteps, total reward: -1462 with epsilon: 0.4662309189661894\nYou lost to the ghost!\nCompleted environment after 3 episodes and 38 timesteps, total reward: -2088 with epsilon: 0.38537020987644216\nYou lost to the ghost!\nCompleted environment after 4 episodes and 22 timesteps, total reward: -1049 with epsilon: 0.34513254658172593\nYou lost to the ghost!\nCompleted environment after 5 episodes and 7 timesteps, total reward: -583 with epsilon: 0.3332325996105925\nYou lost to the ghost!\nCompleted environment after 6 episodes and 19 timesteps, total reward: -151 with epsilon: 0.30296050449939443\nYou lost to the ghost!\nCompleted environment after 7 episodes and 27 timesteps, total reward: -1252 with epsilon: 0.26461179293176074\nYou lost to the ghost!\nCompleted environment after 8 episodes and 15 timesteps, total reward: -147 with epsilon: 0.24544568790688226\nYou lost to the ghost!\nCompleted environment after 9 episodes and 6 timesteps, total reward: -182 with epsilon: 0.23817374808487615\nYou lost to the ghost!\nCompleted environment after 10 episodes and 70 timesteps, total reward: -1669 with epsilon: 0.16769091842207257\n"
     ]
    }
   ],
   "source": [
    "from grid import Pacman_grid\n",
    "from config import Hyper, Constants\n",
    "\n",
    "print(\"\\n\"*10)\n",
    "print(\"-\"*100)\n",
    "print(\"Start of environment design for Pacman\")\n",
    "Hyper.display()\n",
    "print(\"-\"*100)\n",
    "print(\"The grid is updated and printed for each step. In each cell you see the following symbols:\")\n",
    "print(\"X - obstacle\")\n",
    "print(\". - empty\")\n",
    "print(\"b - breadcrumb\")\n",
    "print(\"A - Agent (Pacman)\")\n",
    "print(\"G - Ghost\")\n",
    "pacman_grid = Pacman_grid()\n",
    "for i in range(Hyper.total_episodes):\n",
    "    pacman_grid.reset()\n",
    "    done = False\n",
    "    while done == False:\n",
    "        if Hyper.is_ghost:\n",
    "            done = pacman_grid.ghost_step(i)\n",
    "        else:\n",
    "            done = pacman_grid.step(i)\n",
    "        pacman_grid.policy.update_epsilon()\n",
    "    episodes = i + 1\n",
    "    pacman_grid.print_episode_results(episodes)\n",
    "    pacman_grid.save_episode_stats()\n",
    "\n",
    "pacman_grid.print_results()\n",
    "print(\"\\nThe grid is updated and printed for each step. In each cell you see the following symbols:\")\n",
    "print(\"X - obstacle\")\n",
    "print(\". - empty\")\n",
    "print(\"b - breadcrumb\")\n",
    "print(\"A - Agent (Pacman)\")\n",
    "print(\"G - Ghost\")\n",
    "print(\"\\n\"*3)  \n",
    "print(\"-\"*100)\n",
    "Hyper.display()\n",
    "print(\"End of environment design for Pacman\")\n",
    "print(\"-\"*100)"
   ]
  },
  {
   "source": [
    "When all of the episodes are completed, look in the local images folder to view the results"
   ],
   "cell_type": "markdown",
   "metadata": {}
  }
 ]
}